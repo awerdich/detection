{
 "cells": [
  {
   "cell_type": "markdown",
   "id": "9366a6b0-c26b-4f42-8083-8f41af00790b",
   "metadata": {},
   "source": [
    "### Object detection AP ###"
   ]
  },
  {
   "cell_type": "code",
   "execution_count": 2,
   "id": "a014abab-92e8-4939-a3e1-7b63ba7a8f4c",
   "metadata": {},
   "outputs": [
    {
     "data": {
      "text/html": [
       "<style>.container { width:100% !important; }</style>"
      ],
      "text/plain": [
       "<IPython.core.display.HTML object>"
      ]
     },
     "metadata": {},
     "output_type": "display_data"
    },
    {
     "name": "stdout",
     "output_type": "stream",
     "text": [
      "The autoreload extension is already loaded. To reload it, use:\n",
      "  %reload_ext autoreload\n",
      "Project module version: 0.0.1.post1.dev31+g14d1a25.d20250315\n",
      "PyTorch version:        2.6.0a0+ecf3bae40a.nv25.01\n"
     ]
    }
   ],
   "source": [
    "import os\n",
    "import ast\n",
    "import re\n",
    "import numpy as np\n",
    "import pandas as pd\n",
    "import logging\n",
    "import glob\n",
    "from pathlib import Path\n",
    "\n",
    "from matplotlib import pyplot as plt\n",
    "from matplotlib import patches\n",
    "\n",
    "# PyTorch and HuggingFace Transformers\n",
    "import torch\n",
    "from torchvision import ops\n",
    "from transformers import RTDetrV2ForObjectDetection, RTDetrImageProcessor\n",
    "\n",
    "logger = logging.getLogger(name=__name__)\n",
    "\n",
    "# Appearance of the Notebook\n",
    "from IPython.display import display, HTML\n",
    "display(HTML(\"<style>.container { width:100% !important; }</style>\"))\n",
    "np.set_printoptions(linewidth=110)\n",
    "pd.set_option('display.max_rows', 500)\n",
    "pd.set_option('display.max_columns', 100)\n",
    "pd.set_option('display.width', 1000)\n",
    "\n",
    "# Import this module with autoreload\n",
    "%load_ext autoreload\n",
    "%autoreload 2\n",
    "import detection as dt\n",
    "from detection.detrdataset import get_gpu_info\n",
    "from detection.fileutils import FileOP\n",
    "from detection.imageproc import ImageData, xyxy2xywh, xywh2xyxy, clipxywh\n",
    "from detection.imageproc import determine_bbox_format\n",
    "from detection.performance import get_iou\n",
    "\n",
    "print(f'Project module version: {dt.__version__}')\n",
    "print(f'PyTorch version:        {torch.__version__}')"
   ]
  },
  {
   "cell_type": "markdown",
   "id": "be660273-a1bb-4afa-a12d-1fc1e4c4f5d2",
   "metadata": {},
   "source": [
    "### Helper functions ###"
   ]
  },
  {
   "cell_type": "code",
   "execution_count": 3,
   "id": "90f2e4e2-3c72-4fe0-bd67-36276b7f96c5",
   "metadata": {},
   "outputs": [],
   "source": [
    "# Create a function to show an image with bounding boxes\n",
    "def show_image_with_boxes(image, bbox_list, label_list=None, alpha=0.7, colors=None, ax=None):\n",
    "    if colors is None:\n",
    "        color = plt.cm.rainbow(np.linspace(0, 1, len(box_list)))\n",
    "        color_list = [color[c] for c in range(len(color))]\n",
    "    else:\n",
    "        assert len(colors)==len(bbox_list), f'Number of colors does not match number bounding boxes.'\n",
    "        color_list = colors.copy()\n",
    "    if ax is None:\n",
    "        fig, ax = plt.subplots(figsize=(4, 4))\n",
    "    ax.imshow(image)\n",
    "    for b, box in enumerate(bbox_list):\n",
    "        boxcolor = color_list[b]\n",
    "        anchor = (box[0], box[1])\n",
    "        width = box[2]\n",
    "        height = box[3]\n",
    "        #anchor, width, height = rectangle(box)\n",
    "        rect = patches.Rectangle(xy=anchor, \n",
    "                                 width=width, \n",
    "                                 height=height, \n",
    "                                 linewidth=2.5, \n",
    "                                 edgecolor=boxcolor, \n",
    "                                 facecolor='none', \n",
    "                                 alpha=alpha)\n",
    "        ax.add_patch(rect)\n",
    "        if label_list is not None:\n",
    "            ax.text(x=anchor[0]+4, y=anchor[1]-4, s=label_list[b], color=boxcolor)\n",
    "    ax.set(xticks=[], yticks=[])\n",
    "    return ax"
   ]
  },
  {
   "cell_type": "code",
   "execution_count": 4,
   "id": "aae406d4-ed2c-43d8-aaca-c55cb8927e7a",
   "metadata": {},
   "outputs": [
    {
     "name": "stdout",
     "output_type": "stream",
     "text": [
      "CUDA available: True\n",
      "Number of GPUs found:  1\n",
      "Current device ID: 0\n",
      "GPU device name:   NVIDIA GeForce RTX 3060 Laptop GPU\n",
      "PyTorch version:   2.6.0a0+ecf3bae40a.nv25.01\n",
      "CUDA version:      12.8\n",
      "CUDNN version:     90700\n"
     ]
    }
   ],
   "source": [
    "# Check GPU availability\n",
    "device, device_str = get_gpu_info()\n",
    "\n",
    "# Directories and files\n",
    "data_dir = os.path.join(os.environ.get('HOME'), 'data', 'dentex_detection')\n",
    "image_dir = os.path.join(data_dir, 'quadrants')\n",
    "\n",
    "# Model directory\n",
    "model_name = 'rtdetr_250311_06'\n",
    "model_dir = os.path.join(data_dir, 'models', model_name)\n",
    "\n",
    "# Log file\n",
    "log_file_name = 'train_log_250311.log'\n",
    "log_file = os.path.join(model_dir, log_file_name)\n",
    "\n",
    "# Output for the images with the predictions\n",
    "output_dir = os.path.join(model_dir, 'testresults', 'dentexdata')\n",
    "Path(output_dir).mkdir(parents=True, exist_ok=True)"
   ]
  },
  {
   "cell_type": "code",
   "execution_count": 5,
   "id": "78a0d86f-91be-4090-88b0-2beb44c9f3da",
   "metadata": {},
   "outputs": [
    {
     "name": "stdout",
     "output_type": "stream",
     "text": [
      "250311-21:25-__main__-INFO-{\"output_dir\": \"/app/data/dentex_detection/model/rtdetr_250311_06\", \"num_train_epochs\": 500, \"max_grad_norm\": 0.1, \"learning_rate\": 1e-05, \"warmup_steps\": 300, \"per_device_train_batch_size\": 48, \"dataloader_num_workers\": 8, \"metric_for_best_model\": \"eval_map\", \"greater_is_better\": true, \"load_best_model_at_end\": true, \"eval_strategy\": \"epoch\", \"save_strategy\": \"epoch\", \"save_total_limit\": 5, \"remove_unused_columns\": false, \"eval_do_concat_batches\": false}\n",
      "250311-21:25-__main__-INFO-{\"model_version\": 6, \"model_name\": \"rtdetr_250311_06\", \"hf_checkpoint\": \"PekingU/rtdetr_v2_r101vd\", \"use_transform\": \"transform_1\"}\n",
      "\n"
     ]
    }
   ],
   "source": [
    "# Load the log file\n",
    "with open(log_file, mode='r') as fl:\n",
    "    log = fl.read()\n",
    "print(log)\n",
    "\n",
    "# Load the model from checkpoint\n",
    "hf_model_name = 'PekingU/rtdetr_v2_r101vd'\n",
    "processor = RTDetrImageProcessor.from_pretrained(hf_model_name)\n",
    "checkpoint_name = 'checkpoint-10140'\n",
    "checkpoint_file = os.path.join(model_dir, checkpoint_name)\n",
    "model = RTDetrV2ForObjectDetection.from_pretrained(checkpoint_file).to(device)"
   ]
  },
  {
   "cell_type": "markdown",
   "id": "99a9445e-fa10-4692-bcf5-94a5160f5cfa",
   "metadata": {},
   "source": [
    "### Load the test data ###"
   ]
  },
  {
   "cell_type": "code",
   "execution_count": 6,
   "id": "406b94cd-2b30-405b-a163-be6495c3346b",
   "metadata": {},
   "outputs": [
    {
     "data": {
      "text/html": [
       "<div>\n",
       "<style scoped>\n",
       "    .dataframe tbody tr th:only-of-type {\n",
       "        vertical-align: middle;\n",
       "    }\n",
       "\n",
       "    .dataframe tbody tr th {\n",
       "        vertical-align: top;\n",
       "    }\n",
       "\n",
       "    .dataframe thead th {\n",
       "        text-align: right;\n",
       "    }\n",
       "</style>\n",
       "<table border=\"1\" class=\"dataframe\">\n",
       "  <thead>\n",
       "    <tr style=\"text-align: right;\">\n",
       "      <th></th>\n",
       "      <th>file_name</th>\n",
       "      <th>quadrant</th>\n",
       "      <th>pos</th>\n",
       "      <th>bbox</th>\n",
       "      <th>segmentation</th>\n",
       "      <th>fdi</th>\n",
       "      <th>ada</th>\n",
       "      <th>dset</th>\n",
       "    </tr>\n",
       "  </thead>\n",
       "  <tbody>\n",
       "    <tr>\n",
       "      <th>0</th>\n",
       "      <td>train_0_1.png</td>\n",
       "      <td>1</td>\n",
       "      <td>1</td>\n",
       "      <td>[666, 102, 103, 376]</td>\n",
       "      <td>[[757, 478, 769, 102, 678, 113, 666, 469]]</td>\n",
       "      <td>11</td>\n",
       "      <td>8</td>\n",
       "      <td>train</td>\n",
       "    </tr>\n",
       "    <tr>\n",
       "      <th>1</th>\n",
       "      <td>train_0_1.png</td>\n",
       "      <td>1</td>\n",
       "      <td>2</td>\n",
       "      <td>[593, 107, 85, 377]</td>\n",
       "      <td>[[666, 484, 678, 110, 607, 107, 604, 299, 619,...</td>\n",
       "      <td>12</td>\n",
       "      <td>7</td>\n",
       "      <td>train</td>\n",
       "    </tr>\n",
       "  </tbody>\n",
       "</table>\n",
       "</div>"
      ],
      "text/plain": [
       "       file_name  quadrant pos                  bbox                                       segmentation  fdi  ada   dset\n",
       "0  train_0_1.png         1   1  [666, 102, 103, 376]         [[757, 478, 769, 102, 678, 113, 666, 469]]   11    8  train\n",
       "1  train_0_1.png         1   2   [593, 107, 85, 377]  [[666, 484, 678, 110, 607, 107, 604, 299, 619,...   12    7  train"
      ]
     },
     "metadata": {},
     "output_type": "display_data"
    },
    {
     "name": "stdout",
     "output_type": "stream",
     "text": [
      "Total number of test images: 32\n"
     ]
    }
   ],
   "source": [
    "dataset_df_file_name = 'train_split_250224.parquet'\n",
    "dataset_df_file = os.path.join(image_dir, dataset_df_file_name)\n",
    "df = pd.read_parquet(dataset_df_file)\n",
    "display(df.head(2))\n",
    "\n",
    "# Label to ADA postion conversion\n",
    "ada_list = sorted(list(df['ada'].unique()))\n",
    "id2label = dict(zip(range(len(ada_list)), ada_list))\n",
    "label2id = {v: k for k, v in id2label.items()}\n",
    "\n",
    "# Number of images in data set\n",
    "n_test_images = len(list(df.loc[df['dset'] == 'test', 'file_name'].unique()))\n",
    "print(f'Total number of test images: {n_test_images}')"
   ]
  },
  {
   "cell_type": "markdown",
   "id": "c79f4689-2061-4ef2-a023-7e8a3819b268",
   "metadata": {},
   "source": [
    "### Predict bounding boxes and class labels from input image ###"
   ]
  },
  {
   "cell_type": "code",
   "execution_count": 8,
   "id": "34efebb8-dbaf-4327-af28-c0ab0e600e3d",
   "metadata": {},
   "outputs": [],
   "source": [
    "def predict_bboxes(model, image, threshold, id2label):\n",
    "    im_height, im_width = image.shape[:2]\n",
    "    xlim, ylim = (0, im_width), (0, im_height)\n",
    "    \n",
    "    # Run the predictions for this image\n",
    "    im_input = processor(image, return_tensors='pt').to(device)\n",
    "    \n",
    "    # Run the image through the model\n",
    "    with torch.no_grad():\n",
    "        model_output = model(**im_input)\n",
    "    \n",
    "    results = processor.post_process_object_detection(model_output, \n",
    "                                                      target_sizes=torch.tensor([(im_height, im_width)]), \n",
    "                                                      threshold=nms_threshold)\n",
    "    \n",
    "    results_boxes = results[0].get('boxes').cpu().numpy()\n",
    "    results_boxes = [clipxywh(xyxy2xywh(list(box)), xlim=xlim, ylim=ylim, decimals=0) for box in results_boxes]\n",
    "    results_labels = results[0].get('labels').cpu().numpy()\n",
    "    results_labels = [id2label.get(cl) for cl in results_labels]\n",
    "    results_scores = results[0].get('scores').cpu().numpy()\n",
    "    \n",
    "    output = {'bbox': results_boxes,\n",
    "              'label': results_labels,\n",
    "              'score': results_scores,\n",
    "              'format': 'xywh'}\n",
    "\n",
    "    # Special for tooth detection: only one bounding box per image\n",
    "    # We count the number of bounding boxes per class and then \n",
    "    # Filter the data frame to keep the bounding box with the highest score\n",
    "    output_df = pd.DataFrame(output)\n",
    "    counts = output_df[['label', 'score']].\\\n",
    "                    groupby(by='label').count().\\\n",
    "                    reset_index(drop=False).\\\n",
    "                    rename(columns={'score': 'bboxes_per_label'})\n",
    "    output_df = output_df.merge(counts, on='label', how='left').\\\n",
    "                    sort_values(by=['label', 'score'], ascending=False).\\\n",
    "                    groupby(by='label').first().\\\n",
    "                    reset_index(drop=False)\n",
    "    \n",
    "    return output_df"
   ]
  },
  {
   "cell_type": "code",
   "execution_count": 244,
   "id": "76e77213-68d4-4b6f-acc3-e1ceecf3d5ef",
   "metadata": {},
   "outputs": [],
   "source": [
    "def ap_scores(preds, scores):\n",
    "    assert isinstance(preds, list), 'preds must be a list of strings'\n",
    "    assert isinstance(scores, list), 'scores must be a list of float values'\n",
    "    # Make sure that predicions only contain 'TP', 'FP' and 'FN'\n",
    "    pred_values = ['TP', 'FP', 'FN']\n",
    "    assert sum([p not in pred_values for p in preds]) == 0, 'preds must be in [\"TP\", \"FP\", \"FN\"]'\n",
    "    # Sort predictions by descending score\n",
    "    pdf = pd.DataFrame({'preds': preds, 'scores': scores}).\\\n",
    "                sort_values(by='scores', ascending=False).\\\n",
    "                reset_index(drop=True)\n",
    "    pred_list = pdf['preds'].tolist()\n",
    "    total_positives = len(pred_list)\n",
    "    # Count the different values in the list\n",
    "    # Then, calculate the cumulative sum\n",
    "    cs_tp = np.cumsum([1 if pred=='TP' else 0 for pred in pred_list])\n",
    "    cs_fp = np.cumsum([1 if pred=='FP' else 0 for pred in pred_list])\n",
    "    cs_fn = np.cumsum([1 if pred=='FN' else 0 for pred in pred_list])\n",
    "    # Calculate the weighted precision and recall values\n",
    "    cs_precision = cs_tp / (cs_tp + cs_fp)\n",
    "    cs_recall = cs_tp / total_positives\n",
    "    # Add (precision, recall) = (1, 0) pair\n",
    "    cs_precision = np.insert(cs_precision, 0, 1)\n",
    "    cs_recall = np.insert(cs_recall, 0, 0)\n",
    "    # Average precision\n",
    "    ap = np.trapz(y=cs_precision, x=cs_recall)\n",
    "    # Precision: What fraction of all detections are correct?\n",
    "    pre = sum(tp) / (sum(tp) + sum(fp))\n",
    "    # Recall: How many of the total bounding boxes for the class were detected?\n",
    "    rec = sum(tp) / total_positives\n",
    "    # F1: Harmonic mean of precision and recall\n",
    "    f_score = 2 * pre * rec / (pre + rec)\n",
    "    output = {'cs_precision': cs_precision, \n",
    "              'cs_recall': cs_recall, \n",
    "              'ap_score': ap, \n",
    "              'precision': pre, \n",
    "              'recall': rec, \n",
    "              'f_score': f_score}\n",
    "    return output"
   ]
  },
  {
   "cell_type": "code",
   "execution_count": 289,
   "id": "21dfcb64-b991-47e4-82f9-da7f1556b0fa",
   "metadata": {},
   "outputs": [],
   "source": [
    "# Parameters for testing\n",
    "# Post-processing: Non-Maximum Suppression (NMS)\n",
    "figsize = (6, 3)\n",
    "nms_threshold = 0.2\n",
    "iou_threshold = 0.5\n",
    "dset = 'test'\n",
    "dset_col = 'dset'\n",
    "label_col = 'ada'\n",
    "file_col = 'file_name'\n",
    "bbox_col = 'bbox'"
   ]
  },
  {
   "cell_type": "code",
   "execution_count": 291,
   "id": "3bae4488-00a5-4965-9b60-d126d26c1afa",
   "metadata": {},
   "outputs": [
    {
     "name": "stdout",
     "output_type": "stream",
     "text": [
      "Processing 6 images for label 19\n"
     ]
    },
    {
     "name": "stderr",
     "output_type": "stream",
     "text": [
      "/tmp/ipykernel_156/995737636.py:19: RuntimeWarning: invalid value encountered in divide\n",
      "  cs_precision = cs_tp / (cs_tp + cs_fp)\n"
     ]
    },
    {
     "data": {
      "image/png": "[encoded data removed]",
      "text/plain": [
       "<Figure size 300x300 with 1 Axes>"
      ]
     },
     "metadata": {},
     "output_type": "display_data"
    }
   ],
   "source": [
    "# Loop over all tooth positions\n",
    "ap_df_list = []\n",
    "ada_list = sorted(list(df[label_col].unique()))\n",
    "label = 19\n",
    "#for l, label in enumerate(ada_list):\n",
    "df_label = df.loc[(df[dset_col] == dset) & (df[label_col] == label)]\n",
    "df_label_files = sorted(list(df_label['file_name'].unique()))\n",
    "print(f'Processing {len(df_label_files)} images for label {label}')\n",
    "\n",
    "output_df_label_list = []\n",
    "for f, file_name in enumerate(df_label_files):\n",
    "    # print(f'Label {label} Image {f + 1} / {len(df_label_files)}')\n",
    "    \n",
    "    file_basename = file_name.split('.')[0]\n",
    "    file = os.path.join(image_dir, file_name)\n",
    "    im = ImageData().load_image(file)\n",
    "    im_eq = ImageData().hist_eq(im)\n",
    "    \n",
    "    # Ground truth bounding box\n",
    "    bbox = list(df_label.loc[df_label['file_name'] == file_name, bbox_col].tolist()[0])\n",
    "    \n",
    "    # Predictions for this image\n",
    "    output_df = predict_bboxes(model=model, image=im, threshold=nms_threshold, id2label=id2label)\n",
    "    output_df = output_df.loc[output_df['label'] == label]\n",
    "    \n",
    "    if len(output_df) > 0:\n",
    "        # We have a prediction for this label in the image\n",
    "        # Now we need to determine if it is a good one (true positive, TP)\n",
    "        predicted_bbox = output_df['bbox'].tolist()[0]\n",
    "        predicted_score = output_df['score'].tolist()[0]\n",
    "        np_iou = get_iou(bbox_1=bbox, bbox_2=predicted_bbox, bbox_format='xywh', method='np')\n",
    "        iou = get_iou(bbox_1=bbox, bbox_2=predicted_bbox, bbox_format='xywh', method='pt')\n",
    "        if iou_threshold <= iou:\n",
    "            prediction = 'TP'\n",
    "        else:\n",
    "            prediction = 'FP'\n",
    "    else:\n",
    "        predicted_bbox = None\n",
    "        predicted_score = None\n",
    "        iou = np.nan\n",
    "        prediction = 'FN'\n",
    "        new_row = pd.DataFrame({'label': label}, index=[0])\n",
    "        output_df = pd.concat([output_df, new_row], axis=0, ignore_index=True)\n",
    "    \n",
    "    # Add some important data to the output\n",
    "    output_df = output_df.assign(true_bbox=[bbox],\n",
    "                                 iou=iou, \n",
    "                                 file_name=file_name,\n",
    "                                 nms_threshold=nms_threshold,\n",
    "                                 iou_threshold=iou_threshold,\n",
    "                                 prediction=prediction)\n",
    "    output_df = output_df.rename(columns={'bbox': 'predicted_bbox'})\n",
    "    \n",
    "    # Save this prediction\n",
    "    output_df_label_list.append(output_df)\n",
    "    \n",
    "    # Show the result\n",
    "    if predicted_bbox is not None:\n",
    "        bbox_list = [bbox, predicted_bbox]\n",
    "        label_list = [f'T{str(label).zfill(2)}', f'P{str(label).zfill(2)}:{predicted_score:.3f}']\n",
    "        color_list = ['r', 'b']\n",
    "    else:\n",
    "        bbox_list = [bbox]\n",
    "        label_list = [f'T{str(label).zfill(2)}']\n",
    "        color_list = ['r']\n",
    "    \n",
    "    # Show the images (comment if not needed)\n",
    "    # fig, ax = plt.subplots(figsize=figsize)\n",
    "    # ax = show_image_with_boxes(image=im_eq, \n",
    "    #                            bbox_list=bbox_list, \n",
    "    #                            label_list=label_list, \n",
    "    #                            alpha=1.0, \n",
    "    #                            colors=color_list, \n",
    "    #                            ax=ax)\n",
    "    # ax.set_title(f'POS: {str(label).zfill(2)} {file_basename} IoU_thr: {iou_threshold} IoU: {np_iou: .3f} {prediction}', \n",
    "    #              loc='left', fontsize=10)\n",
    "    # output_file_name = f'{file_basename}_{prediction}.png'\n",
    "    # output_file = os.path.join(output_dir, output_file_name)\n",
    "    # plt.savefig(output_file, bbox_inches='tight')\n",
    "    # plt.show()\n",
    "\n",
    "# Create one data frame with all predictions\n",
    "output_df_label = pd.concat(output_df_label_list, axis=0, ignore_index=True).\\\n",
    "                sort_values(by='score', ascending=False).\\\n",
    "                reset_index(drop=True)\n",
    "\n",
    "# Calculate ap_metrics\n",
    "preds = output_df_label['prediction'].tolist()\n",
    "scores = output_df_label['score'].tolist()\n",
    "ap_output_label = ap_scores(preds, scores)\n",
    "cs_recall = ap_output_label.get('cs_recall')\n",
    "cs_precision = ap_output_label.get('cs_precision')\n",
    "ap_score = ap_output_label.get('ap_score')\n",
    "\n",
    "#Plot the result\n",
    "plt.style.use('bmh')\n",
    "color = 'royalblue'\n",
    "fig, ax = plt.subplots(figsize=(3, 3))\n",
    "ax.plot(cs_recall, cs_precision, color=color, marker='o', markersize=5)\n",
    "ax.plot(cs_recall, cs_precision, color=color, linewidth=0.5)\n",
    "ax.set(xlim=[-0.1, 1.1], xticks=np.arange(0, 1.1, 0.2),\n",
    "       ylim=[-0.1, 1.1], yticks=np.arange(0, 1.1, 0.2))\n",
    "ax.set(xlabel='Recall', ylabel='Precision')\n",
    "ax_title = f'POS: {str(label).zfill(2)} AP: {ap_score: .3f}'\n",
    "ax.set_title(ax_title, loc='left', fontsize=10)\n",
    "example_file_name = f'dentex_{str(label).zfill(2)}_PR.png'\n",
    "example_file = os.path.join(output_dir, example_file_name)\n",
    "# plt.savefig(example_file, bbox_inches='tight')\n",
    "plt.show()\n",
    "\n",
    "ap_dict = {'label_ada': label,\n",
    "           'nms_threshold': nms_threshold,\n",
    "           'iou_threshold': iou_threshold,\n",
    "           'n_images': len(df_label_files),\n",
    "           'ap_score': ap_score,\n",
    "           'precision': ap_output_label.get('precision'),\n",
    "           'recall': ap_output_label.get('recall'),\n",
    "           'fscore': ap_output_label.get('f_score')}\n",
    "\n",
    "ap_df_label = pd.DataFrame(ap_dict, index=[0])\n",
    "ap_df_list.append(ap_df_label)"
   ]
  },
  {
   "cell_type": "markdown",
   "id": "4061af55-3691-47e8-8cca-26b7a5f5233e",
   "metadata": {},
   "source": [
    "### Average precision calculation ###\n",
    "Follow the example:\n",
    "https://learnopencv.com/mean-average-precision-map-object-detection-model-evaluation-metric/"
   ]
  },
  {
   "cell_type": "markdown",
   "id": "b4f1b67a-70a7-4e51-b38b-20f072bdcb07",
   "metadata": {},
   "source": [
    "### Create a function to calculate the ap scores ###"
   ]
  },
  {
   "cell_type": "code",
   "execution_count": 279,
   "id": "3ad85458-36f0-4dcc-88bc-b1263be2659e",
   "metadata": {},
   "outputs": [
    {
     "name": "stdout",
     "output_type": "stream",
     "text": [
      "['FP', 'TP', 'TP', 'TP', 'FP', 'TP', 'FN', 'FN', 'FN', 'TP', 'FN', 'FN']\n",
      "[11.0, 10.0, 8.0, 7.0, 9.0, 6.0, nan, nan, nan, 12.0, nan, nan]\n"
     ]
    }
   ],
   "source": [
    "score_list = [12, 11, 10, 9, 8, 7, 6, np.nan, np.nan, np.nan, np.nan, np.nan] \n",
    "pred_list = ['TP', 'FP', 'TP', 'FP', 'TP', 'TP', 'TP', 'FN', 'FN', 'FN', 'FN', 'FN']\n",
    "\n",
    "# Make a data frame\n",
    "pred_df = pd.DataFrame({'score': score_list,\n",
    "                        'prediction': pred_list})\n",
    "\n",
    "pred_df = pred_df.sample(frac=1)\n",
    "\n",
    "scores = pred_df['score'].tolist()\n",
    "preds = pred_df['prediction'].tolist()\n",
    "\n",
    "# We use this as an input into the function\n",
    "print(preds)\n",
    "print(scores)"
   ]
  },
  {
   "cell_type": "code",
   "execution_count": 280,
   "id": "4228898b-d3d0-432e-990e-771e14d89954",
   "metadata": {},
   "outputs": [],
   "source": [
    "output = ap_scores(preds=preds, scores=scores)\n",
    "cs_recall = output.get('cs_recall')\n",
    "cs_precision = output.get('cs_precision')"
   ]
  },
  {
   "cell_type": "code",
   "execution_count": 281,
   "id": "20d1ae16-b4aa-43a5-85c7-153f2631048b",
   "metadata": {},
   "outputs": [
    {
     "data": {
      "image/png": "[encoded data removed]",
      "text/plain": [
       "<Figure size 300x300 with 1 Axes>"
      ]
     },
     "metadata": {},
     "output_type": "display_data"
    }
   ],
   "source": [
    "plt.style.use('bmh')\n",
    "fig, ax = plt.subplots(figsize=(3, 3))\n",
    "ax.plot(cs_recall, cs_precision, color='royalblue', marker='o', markersize=5)\n",
    "ax.plot(cs_recall, cs_precision, color='royalblue', linewidth=0.5)\n",
    "ax.set(xlim=[-0.1, 1.1], xticks=np.arange(0, 1.1, 0.2),\n",
    "       ylim=[-0.1, 1.1], yticks=np.arange(0, 1.1, 0.2))\n",
    "ax.set(xlabel='Recall', ylabel='Precision')\n",
    "example_file_name = 'pr_example.png'\n",
    "example_file = os.path.join(output_dir, example_file_name)\n",
    "plt.savefig(example_file, bbox_inches='tight')\n",
    "plt.show()"
   ]
  },
  {
   "cell_type": "code",
   "execution_count": 242,
   "id": "43413b67-ee97-4951-beed-4647719a4f4c",
   "metadata": {},
   "outputs": [
    {
     "name": "stdout",
     "output_type": "stream",
     "text": [
      "['TP', 'TP', 'FN', 'FN', 'TP', 'TP']\n",
      "[0.22858518362045288, 0.23980554938316345, nan, nan, 0.24921131134033203, 0.22477759420871735]\n"
     ]
    },
    {
     "data": {
      "text/plain": [
       "{'cs_precision': array([1., 1., 1., 1., 1., 1., 1.]),\n",
       " 'cs_recall': array([0.        , 0.16666667, 0.33333333, 0.5       , 0.66666667, 0.66666667, 0.66666667]),\n",
       " 'ap_score': 0.6666666666666666,\n",
       " 'precision': 0.7142857142857143,\n",
       " 'recall': 0.8333333333333334,\n",
       " 'f_score': 0.7692307692307692}"
      ]
     },
     "metadata": {},
     "output_type": "display_data"
    },
    {
     "data": {
      "image/png": "[encoded data removed]",
      "text/plain": [
       "<Figure size 300x300 with 1 Axes>"
      ]
     },
     "metadata": {},
     "output_type": "display_data"
    }
   ],
   "source": [
    "preds = output_df_label['prediction'].tolist()\n",
    "scores = output_df_label['score'].tolist()\n",
    "print(preds)\n",
    "print(scores)\n",
    "output = ap_scores(preds=preds, scores=scores)\n",
    "display(output)\n",
    "cs_recall = output.get('cs_recall')\n",
    "cs_precision = output.get('cs_precision')\n",
    "\n",
    "#Plot the result\n",
    "plt.style.use('bmh')\n",
    "color = 'cornflowerblue'\n",
    "fig, ax = plt.subplots(figsize=(3, 3))\n",
    "ax.plot(cs_recall, cs_precision, color=color, marker='o', markersize=5)\n",
    "ax.plot(cs_recall, cs_precision, color=color, linewidth=0.5)\n",
    "ax.set(xlim=[-0.1, 1.1], xticks=np.arange(0, 1.1, 0.2),\n",
    "       ylim=[-0.1, 1.1], yticks=np.arange(0, 1.1, 0.2))\n",
    "ax.set(xlabel='Recall', ylabel='Precision')\n",
    "ax_title = f'POS: {str(label).zfill(2)} AP: {output.get('ap_score'): .3f}'\n",
    "ax.set_title(ax_title, loc='left', fontsize=10)\n",
    "example_file_name = f'dentex_{str(label).zfill(2)}_PR.png'\n",
    "example_file = os.path.join(output_dir, example_file_name)\n",
    "# plt.savefig(example_file, bbox_inches='tight')\n",
    "plt.show()"
   ]
  }
 ],
 "metadata": {
  "kernelspec": {
   "display_name": "Python 3 (ipykernel)",
   "language": "python",
   "name": "python3"
  },
  "language_info": {
   "codemirror_mode": {
    "name": "ipython",
    "version": 3
   },
   "file_extension": ".py",
   "mimetype": "text/x-python",
   "name": "python",
   "nbconvert_exporter": "python",
   "pygments_lexer": "ipython3",
   "version": "3.12.3"
  }
 },
 "nbformat": 4,
 "nbformat_minor": 5
}

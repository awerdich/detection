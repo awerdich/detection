{
 "cells": [
  {
   "cell_type": "markdown",
   "id": "10856ab4-1837-475e-a3d4-cc0458fcc570",
   "metadata": {},
   "source": [
    "### Dentex toothmodel image augmentations ###"
   ]
  },
  {
   "cell_type": "code",
   "execution_count": 8,
   "id": "5915e27b-9f4c-4cde-b8eb-482878d32cae",
   "metadata": {},
   "outputs": [
    {
     "data": {
      "text/html": [
       "<style>.container { width:100% !important; }</style>"
      ],
      "text/plain": [
       "<IPython.core.display.HTML object>"
      ]
     },
     "metadata": {},
     "output_type": "display_data"
    },
    {
     "name": "stdout",
     "output_type": "stream",
     "text": [
      "The autoreload extension is already loaded. To reload it, use:\n",
      "  %reload_ext autoreload\n",
      "Project module version: 0.0.1.post1.dev16+g367a5b6\n"
     ]
    }
   ],
   "source": [
    "import os\n",
    "import numpy as np\n",
    "import pandas as pd\n",
    "import glob\n",
    "import json\n",
    "import copy\n",
    "import random\n",
    "from pathlib import Path\n",
    "import logging\n",
    "import itertools\n",
    "from PIL import Image\n",
    "import datetime\n",
    "import seaborn as sns\n",
    "\n",
    "from matplotlib import pyplot as plt\n",
    "from matplotlib import patches\n",
    "\n",
    "logger = logging.getLogger(name=__name__)\n",
    "\n",
    "# Appearance of the Notebook\n",
    "from IPython.display import display, HTML\n",
    "display(HTML(\"<style>.container { width:100% !important; }</style>\"))\n",
    "np.set_printoptions(linewidth=110)\n",
    "pd.set_option('display.max_rows', 500)\n",
    "pd.set_option('display.max_columns', 100)\n",
    "pd.set_option('display.width', 1000)\n",
    "\n",
    "# Import this module with autoreload\n",
    "%load_ext autoreload\n",
    "%autoreload 2\n",
    "import detection as dt\n",
    "from detection.dentexdata import DentexData, fdi_ada_mapping, val_test_split\n",
    "from detection.fileutils import FileOP\n",
    "from detection.imageproc import ImageData, xywh2xyxy, xyxy2xywh, clipxywh\n",
    "\n",
    "print(f'Project module version: {dt.__version__}')"
   ]
  },
  {
   "cell_type": "markdown",
   "id": "fe42be20-942c-47f7-a44f-58f14aaef78d",
   "metadata": {},
   "source": [
    "### Define data locations for this notebook ###"
   ]
  },
  {
   "cell_type": "code",
   "execution_count": 3,
   "id": "4fc44d60-3bd1-4171-a676-ed67cd1a8421",
   "metadata": {},
   "outputs": [],
   "source": [
    "# Data directory\n",
    "data_root = os.path.join(os.environ.get('HOME'), 'data')\n",
    "data_dir = os.path.join(data_root, 'dentex_detection')\n",
    "model_dir = os.path.join(data_dir, 'model')\n",
    "\n",
    "# Image directory (after cropping the data)\n",
    "image_dir = os.path.join(data_dir, 'quadrants')"
   ]
  },
  {
   "cell_type": "markdown",
   "id": "6d8bbff1-a537-4171-a94d-766cf4cf7fc9",
   "metadata": {},
   "source": [
    "### Make sure that the data is available ###"
   ]
  },
  {
   "cell_type": "code",
   "execution_count": 4,
   "id": "8ce2862e-7034-4782-a9e5-9db7ddea8c1b",
   "metadata": {},
   "outputs": [
    {
     "name": "stdout",
     "output_type": "stream",
     "text": [
      "Found 2531 images.\n"
     ]
    }
   ],
   "source": [
    "# Check the images on disk\n",
    "file_list = glob.glob(os.path.join(image_dir, '*.png'))\n",
    "expected_n_images = 2531\n",
    "if not len(file_list) == expected_n_images:\n",
    "    print(f'WARNING: expected number of images ({expected_n_images}) does not match the number of images on disk.')\n",
    "    print(f'Delete files and start over.')\n",
    "else:\n",
    "    print(f'Found {len(file_list)} images.')"
   ]
  },
  {
   "cell_type": "markdown",
   "id": "5f84e995-6428-41dc-9e34-74c4fb1856ef",
   "metadata": {},
   "source": [
    "### Functions ###"
   ]
  },
  {
   "cell_type": "code",
   "execution_count": 7,
   "id": "1aa83110-d6d2-42e3-80f7-d0cb684a3c87",
   "metadata": {},
   "outputs": [],
   "source": [
    "# Create a function to show an image with bounding boxes\n",
    "def show_image_with_boxes(image, box_list, label_list=None, alpha=0.7, edgecolor=None, ax=None):\n",
    "    color = plt.cm.rainbow(np.linspace(0, 1, len(box_list)))\n",
    "    color_list = [color[c] for c in range(len(color))]\n",
    "    if ax is None:\n",
    "        fig, ax = plt.subplots(figsize=(4, 4))\n",
    "    ax.imshow(image)\n",
    "    for b, box in enumerate(box_list):\n",
    "        if edgecolor is None:\n",
    "            boxcolor = color_list[b]\n",
    "        else:\n",
    "            boxcolor = edgecolor\n",
    "        anchor = (box[0], box[1])\n",
    "        width = box[2]\n",
    "        height = box[3]\n",
    "        #anchor, width, height = rectangle(box)\n",
    "        rect = patches.Rectangle(xy=anchor, \n",
    "                                 width=width, \n",
    "                                 height=height, \n",
    "                                 linewidth=2.5, \n",
    "                                 edgecolor=boxcolor, \n",
    "                                 facecolor='none', \n",
    "                                 alpha=alpha)\n",
    "        ax.add_patch(rect)\n",
    "        if label_list is not None:\n",
    "            ax.text(x=anchor[0]+width/2, y=anchor[1]-3, s=label_list[b], color=boxcolor)\n",
    "    ax.set(xticks=[], yticks=[])\n",
    "    return ax\n",
    "\n",
    "# Quick histogram to show distribution of teeth\n",
    "def plot_hist(data, ax):\n",
    "    plt.style.use('default')\n",
    "    g = sns.histplot(data=data, x='ada', hue='quadrant', \n",
    "                     ax=ax, palette='Blues', \n",
    "                     discrete=True)\n",
    "    sns.move_legend(g, \"upper right\", bbox_to_anchor=(1.15, 1.0), title='Quadrant')\n",
    "    ax.set(xlabel='Position', ylabel='Annotations')\n",
    "    return ax\n",
    "\n",
    "# Category mapping\n",
    "fdi2ada  = fdi_ada_mapping()\n",
    "ada2fdi = {v: k for k, v in fdi2ada.items()}"
   ]
  },
  {
   "cell_type": "markdown",
   "id": "1a2ad4d1-87dd-4a67-af88-77b64aea0816",
   "metadata": {},
   "source": [
    "### Load the annotations ###"
   ]
  },
  {
   "cell_type": "code",
   "execution_count": 10,
   "id": "b3f5a559-0a5d-4893-9cc1-c3023cc7cb4a",
   "metadata": {},
   "outputs": [
    {
     "name": "stdout",
     "output_type": "stream",
     "text": [
      "/app/data/dentex_detection/quadrants\n"
     ]
    },
    {
     "data": {
      "image/png": "[encoded data removed]",
      "text/plain": [
       "<Figure size 800x300 with 1 Axes>"
      ]
     },
     "metadata": {},
     "output_type": "display_data"
    }
   ],
   "source": [
    "annotations_file_name = 'train_split_250223.parquet'\n",
    "annotations_file = os.path.join(image_dir, annotations_file_name)\n",
    "df = pd.read_parquet(annotations_file)\n",
    "print(image_dir)\n",
    "\n",
    "# Quick histogram to show distribution of teeth\n",
    "fig, ax = plt.subplots(figsize=(8, 3))\n",
    "ax = plot_hist(data=df, ax=ax)\n",
    "ax.set(ylim=[0, 900], yticks=np.arange(0, 1000, 200))\n",
    "hist_file_name = 'dentex_annotation_hist.png'\n",
    "hist_file = os.path.join(data_dir, hist_file_name)\n",
    "plt.savefig(hist_file, bbox_inches='tight')\n",
    "plt.show()"
   ]
  },
  {
   "cell_type": "markdown",
   "id": "b57fd4d2-4467-40e2-b183-55ee48f9e6a3",
   "metadata": {},
   "source": [
    "### Show some images with bounding boxes ###"
   ]
  },
  {
   "cell_type": "code",
   "execution_count": 11,
   "id": "a2171fee-20d0-4178-ab06-748580b73209",
   "metadata": {},
   "outputs": [
    {
     "data": {
      "text/html": [
       "<div>\n",
       "<style scoped>\n",
       "    .dataframe tbody tr th:only-of-type {\n",
       "        vertical-align: middle;\n",
       "    }\n",
       "\n",
       "    .dataframe tbody tr th {\n",
       "        vertical-align: top;\n",
       "    }\n",
       "\n",
       "    .dataframe thead th {\n",
       "        text-align: right;\n",
       "    }\n",
       "</style>\n",
       "<table border=\"1\" class=\"dataframe\">\n",
       "  <thead>\n",
       "    <tr style=\"text-align: right;\">\n",
       "      <th></th>\n",
       "      <th>file_name</th>\n",
       "      <th>quadrant</th>\n",
       "      <th>pos</th>\n",
       "      <th>bbox</th>\n",
       "      <th>segmentation</th>\n",
       "      <th>fdi</th>\n",
       "      <th>ada</th>\n",
       "      <th>dset</th>\n",
       "    </tr>\n",
       "  </thead>\n",
       "  <tbody>\n",
       "    <tr>\n",
       "      <th>0</th>\n",
       "      <td>train_0_1.png</td>\n",
       "      <td>1</td>\n",
       "      <td>1</td>\n",
       "      <td>[666, 102, 103, 376]</td>\n",
       "      <td>[[757, 478, 769, 102, 678, 113, 666, 469]]</td>\n",
       "      <td>11</td>\n",
       "      <td>8</td>\n",
       "      <td>train</td>\n",
       "    </tr>\n",
       "    <tr>\n",
       "      <th>1</th>\n",
       "      <td>train_0_1.png</td>\n",
       "      <td>1</td>\n",
       "      <td>2</td>\n",
       "      <td>[593, 107, 85, 377]</td>\n",
       "      <td>[[666, 484, 678, 110, 607, 107, 604, 299, 619,...</td>\n",
       "      <td>12</td>\n",
       "      <td>7</td>\n",
       "      <td>train</td>\n",
       "    </tr>\n",
       "  </tbody>\n",
       "</table>\n",
       "</div>"
      ],
      "text/plain": [
       "       file_name  quadrant pos                  bbox                                       segmentation  fdi  ada   dset\n",
       "0  train_0_1.png         1   1  [666, 102, 103, 376]         [[757, 478, 769, 102, 678, 113, 666, 469]]   11    8  train\n",
       "1  train_0_1.png         1   2   [593, 107, 85, 377]  [[666, 484, 678, 110, 607, 107, 604, 299, 619,...   12    7  train"
      ]
     },
     "metadata": {},
     "output_type": "display_data"
    }
   ],
   "source": [
    "display(df.head(2))\n",
    "file_list = sorted(list(df['file_name'].unique()))"
   ]
  },
  {
   "cell_type": "markdown",
   "id": "f2acd7e0-d1a3-41d2-b274-e0b47ae130c4",
   "metadata": {},
   "source": [
    "### Set up augmentations ###"
   ]
  }
 ],
 "metadata": {
  "kernelspec": {
   "display_name": "Python 3 (ipykernel)",
   "language": "python",
   "name": "python3"
  },
  "language_info": {
   "codemirror_mode": {
    "name": "ipython",
    "version": 3
   },
   "file_extension": ".py",
   "mimetype": "text/x-python",
   "name": "python",
   "nbconvert_exporter": "python",
   "pygments_lexer": "ipython3",
   "version": "3.12.3"
  }
 },
 "nbformat": 4,
 "nbformat_minor": 5
}
